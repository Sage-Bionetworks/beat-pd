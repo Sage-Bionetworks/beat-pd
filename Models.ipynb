{
 "cells": [
  {
   "cell_type": "code",
   "execution_count": 143,
   "metadata": {},
   "outputs": [],
   "source": [
    "from sklearn.ensemble import RandomForestClassifier\n",
    "from sklearn.metrics import confusion_matrix, roc_auc_score\n",
    "from sklearn.preprocessing import label_binarize\n",
    "import pandas as pd\n",
    "import numpy as np\n",
    "import seaborn as sns\n",
    "import scipy"
   ]
  },
  {
   "cell_type": "code",
   "execution_count": 127,
   "metadata": {},
   "outputs": [],
   "source": [
    "Data = pd.read_csv('./Watch_Features_Full.csv')\n",
    "Meta = pd.read_csv('./Metadata.csv')"
   ]
  },
  {
   "cell_type": "code",
   "execution_count": 181,
   "metadata": {},
   "outputs": [
    {
     "data": {
      "text/plain": [
       "(121465, 81)"
      ]
     },
     "execution_count": 181,
     "metadata": {},
     "output_type": "execute_result"
    }
   ],
   "source": [
    "Data.shape"
   ]
  },
  {
   "cell_type": "code",
   "execution_count": 128,
   "metadata": {},
   "outputs": [
    {
     "data": {
      "text/html": [
       "<div>\n",
       "<style scoped>\n",
       "    .dataframe tbody tr th:only-of-type {\n",
       "        vertical-align: middle;\n",
       "    }\n",
       "\n",
       "    .dataframe tbody tr th {\n",
       "        vertical-align: top;\n",
       "    }\n",
       "\n",
       "    .dataframe thead th {\n",
       "        text-align: right;\n",
       "    }\n",
       "</style>\n",
       "<table border=\"1\" class=\"dataframe\">\n",
       "  <thead>\n",
       "    <tr style=\"text-align: right;\">\n",
       "      <th></th>\n",
       "      <th>RMSX</th>\n",
       "      <th>RMSY</th>\n",
       "      <th>RMSZ</th>\n",
       "      <th>rangeX</th>\n",
       "      <th>rangeY</th>\n",
       "      <th>rangeZ</th>\n",
       "      <th>meanX</th>\n",
       "      <th>meanY</th>\n",
       "      <th>meanZ</th>\n",
       "      <th>varX</th>\n",
       "      <th>...</th>\n",
       "      <th>Pdom_rel_mag</th>\n",
       "      <th>PSD_mean_mag</th>\n",
       "      <th>PSD_std_mag</th>\n",
       "      <th>PSD_skew_mag</th>\n",
       "      <th>PSD_kur_mag</th>\n",
       "      <th>jerk_mean_mag</th>\n",
       "      <th>jerk_std_mag</th>\n",
       "      <th>jerk_skew_mag</th>\n",
       "      <th>jerk_kur_mag</th>\n",
       "      <th>ID</th>\n",
       "    </tr>\n",
       "  </thead>\n",
       "  <tbody>\n",
       "    <tr>\n",
       "      <th>0</th>\n",
       "      <td>0.000074</td>\n",
       "      <td>0.000082</td>\n",
       "      <td>0.000081</td>\n",
       "      <td>0.030553</td>\n",
       "      <td>0.029340</td>\n",
       "      <td>0.028807</td>\n",
       "      <td>-0.000006</td>\n",
       "      <td>-0.000017</td>\n",
       "      <td>1.026619e-05</td>\n",
       "      <td>0.002870</td>\n",
       "      <td>...</td>\n",
       "      <td>0.203389</td>\n",
       "      <td>6.272033e-07</td>\n",
       "      <td>1.891230e-06</td>\n",
       "      <td>5.837888</td>\n",
       "      <td>38.086612</td>\n",
       "      <td>-1.618017e-06</td>\n",
       "      <td>0.003908</td>\n",
       "      <td>0.045758</td>\n",
       "      <td>2.562344</td>\n",
       "      <td>00195693-95f6-4ee7-94eb-366c2963b5c3</td>\n",
       "    </tr>\n",
       "    <tr>\n",
       "      <th>1</th>\n",
       "      <td>0.000056</td>\n",
       "      <td>0.000066</td>\n",
       "      <td>0.000055</td>\n",
       "      <td>0.018877</td>\n",
       "      <td>0.018267</td>\n",
       "      <td>0.016651</td>\n",
       "      <td>0.000002</td>\n",
       "      <td>0.000008</td>\n",
       "      <td>1.529295e-05</td>\n",
       "      <td>0.002154</td>\n",
       "      <td>...</td>\n",
       "      <td>0.079906</td>\n",
       "      <td>3.481453e-07</td>\n",
       "      <td>6.543524e-07</td>\n",
       "      <td>2.646385</td>\n",
       "      <td>6.249822</td>\n",
       "      <td>-1.505870e-06</td>\n",
       "      <td>0.003090</td>\n",
       "      <td>0.045796</td>\n",
       "      <td>0.688963</td>\n",
       "      <td>00195693-95f6-4ee7-94eb-366c2963b5c3</td>\n",
       "    </tr>\n",
       "    <tr>\n",
       "      <th>2</th>\n",
       "      <td>0.000067</td>\n",
       "      <td>0.000080</td>\n",
       "      <td>0.000065</td>\n",
       "      <td>0.022141</td>\n",
       "      <td>0.022254</td>\n",
       "      <td>0.018988</td>\n",
       "      <td>-0.000001</td>\n",
       "      <td>0.000025</td>\n",
       "      <td>-7.708126e-06</td>\n",
       "      <td>0.002588</td>\n",
       "      <td>...</td>\n",
       "      <td>0.105608</td>\n",
       "      <td>5.752197e-07</td>\n",
       "      <td>1.224423e-06</td>\n",
       "      <td>3.205763</td>\n",
       "      <td>10.612107</td>\n",
       "      <td>-4.364062e-07</td>\n",
       "      <td>0.003800</td>\n",
       "      <td>-0.073022</td>\n",
       "      <td>0.820442</td>\n",
       "      <td>00195693-95f6-4ee7-94eb-366c2963b5c3</td>\n",
       "    </tr>\n",
       "    <tr>\n",
       "      <th>3</th>\n",
       "      <td>0.000068</td>\n",
       "      <td>0.000109</td>\n",
       "      <td>0.000117</td>\n",
       "      <td>0.027901</td>\n",
       "      <td>0.058374</td>\n",
       "      <td>0.074973</td>\n",
       "      <td>-0.000004</td>\n",
       "      <td>0.000004</td>\n",
       "      <td>-1.207512e-05</td>\n",
       "      <td>0.002627</td>\n",
       "      <td>...</td>\n",
       "      <td>0.089595</td>\n",
       "      <td>7.111670e-07</td>\n",
       "      <td>1.141293e-06</td>\n",
       "      <td>3.149749</td>\n",
       "      <td>11.517618</td>\n",
       "      <td>2.822701e-06</td>\n",
       "      <td>0.004139</td>\n",
       "      <td>0.135194</td>\n",
       "      <td>2.450584</td>\n",
       "      <td>00195693-95f6-4ee7-94eb-366c2963b5c3</td>\n",
       "    </tr>\n",
       "    <tr>\n",
       "      <th>4</th>\n",
       "      <td>0.000058</td>\n",
       "      <td>0.000071</td>\n",
       "      <td>0.000061</td>\n",
       "      <td>0.018342</td>\n",
       "      <td>0.040055</td>\n",
       "      <td>0.035330</td>\n",
       "      <td>0.000004</td>\n",
       "      <td>-0.000003</td>\n",
       "      <td>8.239709e-07</td>\n",
       "      <td>0.002237</td>\n",
       "      <td>...</td>\n",
       "      <td>0.113744</td>\n",
       "      <td>4.197550e-07</td>\n",
       "      <td>8.757321e-07</td>\n",
       "      <td>3.743618</td>\n",
       "      <td>13.957902</td>\n",
       "      <td>-1.630992e-06</td>\n",
       "      <td>0.003564</td>\n",
       "      <td>0.480899</td>\n",
       "      <td>8.002096</td>\n",
       "      <td>00195693-95f6-4ee7-94eb-366c2963b5c3</td>\n",
       "    </tr>\n",
       "  </tbody>\n",
       "</table>\n",
       "<p>5 rows × 75 columns</p>\n",
       "</div>"
      ],
      "text/plain": [
       "       RMSX      RMSY      RMSZ    rangeX    rangeY    rangeZ     meanX  \\\n",
       "0  0.000074  0.000082  0.000081  0.030553  0.029340  0.028807 -0.000006   \n",
       "1  0.000056  0.000066  0.000055  0.018877  0.018267  0.016651  0.000002   \n",
       "2  0.000067  0.000080  0.000065  0.022141  0.022254  0.018988 -0.000001   \n",
       "3  0.000068  0.000109  0.000117  0.027901  0.058374  0.074973 -0.000004   \n",
       "4  0.000058  0.000071  0.000061  0.018342  0.040055  0.035330  0.000004   \n",
       "\n",
       "      meanY         meanZ      varX  ...  Pdom_rel_mag  PSD_mean_mag  \\\n",
       "0 -0.000017  1.026619e-05  0.002870  ...      0.203389  6.272033e-07   \n",
       "1  0.000008  1.529295e-05  0.002154  ...      0.079906  3.481453e-07   \n",
       "2  0.000025 -7.708126e-06  0.002588  ...      0.105608  5.752197e-07   \n",
       "3  0.000004 -1.207512e-05  0.002627  ...      0.089595  7.111670e-07   \n",
       "4 -0.000003  8.239709e-07  0.002237  ...      0.113744  4.197550e-07   \n",
       "\n",
       "    PSD_std_mag  PSD_skew_mag  PSD_kur_mag  jerk_mean_mag  jerk_std_mag  \\\n",
       "0  1.891230e-06      5.837888    38.086612  -1.618017e-06      0.003908   \n",
       "1  6.543524e-07      2.646385     6.249822  -1.505870e-06      0.003090   \n",
       "2  1.224423e-06      3.205763    10.612107  -4.364062e-07      0.003800   \n",
       "3  1.141293e-06      3.149749    11.517618   2.822701e-06      0.004139   \n",
       "4  8.757321e-07      3.743618    13.957902  -1.630992e-06      0.003564   \n",
       "\n",
       "   jerk_skew_mag  jerk_kur_mag                                    ID  \n",
       "0       0.045758      2.562344  00195693-95f6-4ee7-94eb-366c2963b5c3  \n",
       "1       0.045796      0.688963  00195693-95f6-4ee7-94eb-366c2963b5c3  \n",
       "2      -0.073022      0.820442  00195693-95f6-4ee7-94eb-366c2963b5c3  \n",
       "3       0.135194      2.450584  00195693-95f6-4ee7-94eb-366c2963b5c3  \n",
       "4       0.480899      8.002096  00195693-95f6-4ee7-94eb-366c2963b5c3  \n",
       "\n",
       "[5 rows x 75 columns]"
      ]
     },
     "execution_count": 128,
     "metadata": {},
     "output_type": "execute_result"
    }
   ],
   "source": [
    "Data.head()"
   ]
  },
  {
   "cell_type": "code",
   "execution_count": 129,
   "metadata": {
    "scrolled": true
   },
   "outputs": [
    {
     "data": {
      "text/html": [
       "<div>\n",
       "<style scoped>\n",
       "    .dataframe tbody tr th:only-of-type {\n",
       "        vertical-align: middle;\n",
       "    }\n",
       "\n",
       "    .dataframe tbody tr th {\n",
       "        vertical-align: top;\n",
       "    }\n",
       "\n",
       "    .dataframe thead th {\n",
       "        text-align: right;\n",
       "    }\n",
       "</style>\n",
       "<table border=\"1\" class=\"dataframe\">\n",
       "  <thead>\n",
       "    <tr style=\"text-align: right;\">\n",
       "      <th></th>\n",
       "      <th>measurement_id</th>\n",
       "      <th>subject_id</th>\n",
       "      <th>timestamp</th>\n",
       "      <th>activity_intensity</th>\n",
       "      <th>dyskinesia</th>\n",
       "      <th>on_off</th>\n",
       "      <th>tremor</th>\n",
       "      <th>activity_intensity_reported_timestamp</th>\n",
       "      <th>dyskinesia_reported_timestamp</th>\n",
       "      <th>on_off_reported_timestamp</th>\n",
       "      <th>tremor_reported_timestamp</th>\n",
       "    </tr>\n",
       "  </thead>\n",
       "  <tbody>\n",
       "    <tr>\n",
       "      <th>0</th>\n",
       "      <td>666f627b-0e7e-4170-ae6b-2868659d31e5</td>\n",
       "      <td>1000</td>\n",
       "      <td>1497528000000</td>\n",
       "      <td>0.0</td>\n",
       "      <td>0.0</td>\n",
       "      <td>1</td>\n",
       "      <td>0.0</td>\n",
       "      <td>1.497548e+12</td>\n",
       "      <td>1.497548e+12</td>\n",
       "      <td>1497547973973</td>\n",
       "      <td>1.497548e+12</td>\n",
       "    </tr>\n",
       "    <tr>\n",
       "      <th>1</th>\n",
       "      <td>6d9d19a3-c8c7-4d2c-8713-ae28824b8e43</td>\n",
       "      <td>1000</td>\n",
       "      <td>1497529800000</td>\n",
       "      <td>0.0</td>\n",
       "      <td>0.0</td>\n",
       "      <td>0</td>\n",
       "      <td>0.0</td>\n",
       "      <td>1.497548e+12</td>\n",
       "      <td>1.497548e+12</td>\n",
       "      <td>1497547997789</td>\n",
       "      <td>1.497548e+12</td>\n",
       "    </tr>\n",
       "    <tr>\n",
       "      <th>2</th>\n",
       "      <td>ae861cd1-da40-4697-b6fb-7e3844085cbf</td>\n",
       "      <td>1000</td>\n",
       "      <td>1497531600000</td>\n",
       "      <td>0.0</td>\n",
       "      <td>0.0</td>\n",
       "      <td>0</td>\n",
       "      <td>0.0</td>\n",
       "      <td>1.497548e+12</td>\n",
       "      <td>1.497548e+12</td>\n",
       "      <td>1497548009659</td>\n",
       "      <td>1.497548e+12</td>\n",
       "    </tr>\n",
       "    <tr>\n",
       "      <th>3</th>\n",
       "      <td>c228e60a-de21-4595-9d55-d5cf6891d8af</td>\n",
       "      <td>1000</td>\n",
       "      <td>1497533400000</td>\n",
       "      <td>0.0</td>\n",
       "      <td>0.0</td>\n",
       "      <td>0</td>\n",
       "      <td>0.0</td>\n",
       "      <td>1.497548e+12</td>\n",
       "      <td>1.497548e+12</td>\n",
       "      <td>1497548026985</td>\n",
       "      <td>1.497548e+12</td>\n",
       "    </tr>\n",
       "    <tr>\n",
       "      <th>4</th>\n",
       "      <td>59db02c8-69e1-41a9-94aa-0a58157888fc</td>\n",
       "      <td>1000</td>\n",
       "      <td>1497535200000</td>\n",
       "      <td>0.0</td>\n",
       "      <td>0.0</td>\n",
       "      <td>0</td>\n",
       "      <td>0.0</td>\n",
       "      <td>1.497548e+12</td>\n",
       "      <td>1.497548e+12</td>\n",
       "      <td>1497548037136</td>\n",
       "      <td>1.497548e+12</td>\n",
       "    </tr>\n",
       "  </tbody>\n",
       "</table>\n",
       "</div>"
      ],
      "text/plain": [
       "                         measurement_id  subject_id      timestamp  \\\n",
       "0  666f627b-0e7e-4170-ae6b-2868659d31e5        1000  1497528000000   \n",
       "1  6d9d19a3-c8c7-4d2c-8713-ae28824b8e43        1000  1497529800000   \n",
       "2  ae861cd1-da40-4697-b6fb-7e3844085cbf        1000  1497531600000   \n",
       "3  c228e60a-de21-4595-9d55-d5cf6891d8af        1000  1497533400000   \n",
       "4  59db02c8-69e1-41a9-94aa-0a58157888fc        1000  1497535200000   \n",
       "\n",
       "   activity_intensity  dyskinesia  on_off  tremor  \\\n",
       "0                 0.0         0.0       1     0.0   \n",
       "1                 0.0         0.0       0     0.0   \n",
       "2                 0.0         0.0       0     0.0   \n",
       "3                 0.0         0.0       0     0.0   \n",
       "4                 0.0         0.0       0     0.0   \n",
       "\n",
       "   activity_intensity_reported_timestamp  dyskinesia_reported_timestamp  \\\n",
       "0                           1.497548e+12                   1.497548e+12   \n",
       "1                           1.497548e+12                   1.497548e+12   \n",
       "2                           1.497548e+12                   1.497548e+12   \n",
       "3                           1.497548e+12                   1.497548e+12   \n",
       "4                           1.497548e+12                   1.497548e+12   \n",
       "\n",
       "   on_off_reported_timestamp  tremor_reported_timestamp  \n",
       "0              1497547973973               1.497548e+12  \n",
       "1              1497547997789               1.497548e+12  \n",
       "2              1497548009659               1.497548e+12  \n",
       "3              1497548026985               1.497548e+12  \n",
       "4              1497548037136               1.497548e+12  "
      ]
     },
     "execution_count": 129,
     "metadata": {},
     "output_type": "execute_result"
    }
   ],
   "source": [
    "Meta.head()"
   ]
  },
  {
   "cell_type": "code",
   "execution_count": 182,
   "metadata": {},
   "outputs": [
    {
     "data": {
      "text/plain": [
       "array([1000, 1004, 1006, 1007, 1011, 1016, 1018, 1019, 1020, 1022, 1023,\n",
       "       1030, 1032, 1034, 1036, 1038, 1039, 1041, 1043, 1044, 1046, 1047,\n",
       "       1048, 1049, 1051], dtype=int64)"
      ]
     },
     "execution_count": 182,
     "metadata": {},
     "output_type": "execute_result"
    }
   ],
   "source": [
    "Meta.subject_id.unique()"
   ]
  },
  {
   "cell_type": "code",
   "execution_count": 131,
   "metadata": {},
   "outputs": [],
   "source": [
    "Meta.index = Meta.measurement_id"
   ]
  },
  {
   "cell_type": "code",
   "execution_count": 132,
   "metadata": {},
   "outputs": [],
   "source": [
    "Data['subject_id']=Data.ID.apply(lambda x: Meta.loc[x,'subject_id'])\n",
    "Data['timestamp']=Data.ID.apply(lambda x: Meta.loc[x,'timestamp'])\n",
    "Data['activity_intensity']=Data.ID.apply(lambda x: Meta.loc[x,'activity_intensity'])\n",
    "Data['dyskinesia']=Data.ID.apply(lambda x: Meta.loc[x,'dyskinesia'])\n",
    "Data['on_off']=Data.ID.apply(lambda x: Meta.loc[x,'on_off'])\n",
    "Data['tremor']=Data.ID.apply(lambda x: Meta.loc[x,'tremor'])"
   ]
  },
  {
   "cell_type": "code",
   "execution_count": 133,
   "metadata": {
    "scrolled": true
   },
   "outputs": [
    {
     "data": {
      "text/html": [
       "<div>\n",
       "<style scoped>\n",
       "    .dataframe tbody tr th:only-of-type {\n",
       "        vertical-align: middle;\n",
       "    }\n",
       "\n",
       "    .dataframe tbody tr th {\n",
       "        vertical-align: top;\n",
       "    }\n",
       "\n",
       "    .dataframe thead th {\n",
       "        text-align: right;\n",
       "    }\n",
       "</style>\n",
       "<table border=\"1\" class=\"dataframe\">\n",
       "  <thead>\n",
       "    <tr style=\"text-align: right;\">\n",
       "      <th></th>\n",
       "      <th>RMSX</th>\n",
       "      <th>RMSY</th>\n",
       "      <th>RMSZ</th>\n",
       "      <th>rangeX</th>\n",
       "      <th>rangeY</th>\n",
       "      <th>rangeZ</th>\n",
       "      <th>meanX</th>\n",
       "      <th>meanY</th>\n",
       "      <th>meanZ</th>\n",
       "      <th>varX</th>\n",
       "      <th>...</th>\n",
       "      <th>jerk_std_mag</th>\n",
       "      <th>jerk_skew_mag</th>\n",
       "      <th>jerk_kur_mag</th>\n",
       "      <th>ID</th>\n",
       "      <th>subject_id</th>\n",
       "      <th>timestamp</th>\n",
       "      <th>activity_intensity</th>\n",
       "      <th>dyskinesia</th>\n",
       "      <th>on_off</th>\n",
       "      <th>tremor</th>\n",
       "    </tr>\n",
       "  </thead>\n",
       "  <tbody>\n",
       "    <tr>\n",
       "      <th>0</th>\n",
       "      <td>0.000074</td>\n",
       "      <td>0.000082</td>\n",
       "      <td>0.000081</td>\n",
       "      <td>0.030553</td>\n",
       "      <td>0.029340</td>\n",
       "      <td>0.028807</td>\n",
       "      <td>-0.000006</td>\n",
       "      <td>-0.000017</td>\n",
       "      <td>1.026619e-05</td>\n",
       "      <td>0.002870</td>\n",
       "      <td>...</td>\n",
       "      <td>0.003908</td>\n",
       "      <td>0.045758</td>\n",
       "      <td>2.562344</td>\n",
       "      <td>00195693-95f6-4ee7-94eb-366c2963b5c3</td>\n",
       "      <td>1051</td>\n",
       "      <td>1511803800000</td>\n",
       "      <td>0.0</td>\n",
       "      <td>0.0</td>\n",
       "      <td>0</td>\n",
       "      <td>0.0</td>\n",
       "    </tr>\n",
       "    <tr>\n",
       "      <th>1</th>\n",
       "      <td>0.000056</td>\n",
       "      <td>0.000066</td>\n",
       "      <td>0.000055</td>\n",
       "      <td>0.018877</td>\n",
       "      <td>0.018267</td>\n",
       "      <td>0.016651</td>\n",
       "      <td>0.000002</td>\n",
       "      <td>0.000008</td>\n",
       "      <td>1.529295e-05</td>\n",
       "      <td>0.002154</td>\n",
       "      <td>...</td>\n",
       "      <td>0.003090</td>\n",
       "      <td>0.045796</td>\n",
       "      <td>0.688963</td>\n",
       "      <td>00195693-95f6-4ee7-94eb-366c2963b5c3</td>\n",
       "      <td>1051</td>\n",
       "      <td>1511803800000</td>\n",
       "      <td>0.0</td>\n",
       "      <td>0.0</td>\n",
       "      <td>0</td>\n",
       "      <td>0.0</td>\n",
       "    </tr>\n",
       "    <tr>\n",
       "      <th>2</th>\n",
       "      <td>0.000067</td>\n",
       "      <td>0.000080</td>\n",
       "      <td>0.000065</td>\n",
       "      <td>0.022141</td>\n",
       "      <td>0.022254</td>\n",
       "      <td>0.018988</td>\n",
       "      <td>-0.000001</td>\n",
       "      <td>0.000025</td>\n",
       "      <td>-7.708126e-06</td>\n",
       "      <td>0.002588</td>\n",
       "      <td>...</td>\n",
       "      <td>0.003800</td>\n",
       "      <td>-0.073022</td>\n",
       "      <td>0.820442</td>\n",
       "      <td>00195693-95f6-4ee7-94eb-366c2963b5c3</td>\n",
       "      <td>1051</td>\n",
       "      <td>1511803800000</td>\n",
       "      <td>0.0</td>\n",
       "      <td>0.0</td>\n",
       "      <td>0</td>\n",
       "      <td>0.0</td>\n",
       "    </tr>\n",
       "    <tr>\n",
       "      <th>3</th>\n",
       "      <td>0.000068</td>\n",
       "      <td>0.000109</td>\n",
       "      <td>0.000117</td>\n",
       "      <td>0.027901</td>\n",
       "      <td>0.058374</td>\n",
       "      <td>0.074973</td>\n",
       "      <td>-0.000004</td>\n",
       "      <td>0.000004</td>\n",
       "      <td>-1.207512e-05</td>\n",
       "      <td>0.002627</td>\n",
       "      <td>...</td>\n",
       "      <td>0.004139</td>\n",
       "      <td>0.135194</td>\n",
       "      <td>2.450584</td>\n",
       "      <td>00195693-95f6-4ee7-94eb-366c2963b5c3</td>\n",
       "      <td>1051</td>\n",
       "      <td>1511803800000</td>\n",
       "      <td>0.0</td>\n",
       "      <td>0.0</td>\n",
       "      <td>0</td>\n",
       "      <td>0.0</td>\n",
       "    </tr>\n",
       "    <tr>\n",
       "      <th>4</th>\n",
       "      <td>0.000058</td>\n",
       "      <td>0.000071</td>\n",
       "      <td>0.000061</td>\n",
       "      <td>0.018342</td>\n",
       "      <td>0.040055</td>\n",
       "      <td>0.035330</td>\n",
       "      <td>0.000004</td>\n",
       "      <td>-0.000003</td>\n",
       "      <td>8.239709e-07</td>\n",
       "      <td>0.002237</td>\n",
       "      <td>...</td>\n",
       "      <td>0.003564</td>\n",
       "      <td>0.480899</td>\n",
       "      <td>8.002096</td>\n",
       "      <td>00195693-95f6-4ee7-94eb-366c2963b5c3</td>\n",
       "      <td>1051</td>\n",
       "      <td>1511803800000</td>\n",
       "      <td>0.0</td>\n",
       "      <td>0.0</td>\n",
       "      <td>0</td>\n",
       "      <td>0.0</td>\n",
       "    </tr>\n",
       "  </tbody>\n",
       "</table>\n",
       "<p>5 rows × 81 columns</p>\n",
       "</div>"
      ],
      "text/plain": [
       "       RMSX      RMSY      RMSZ    rangeX    rangeY    rangeZ     meanX  \\\n",
       "0  0.000074  0.000082  0.000081  0.030553  0.029340  0.028807 -0.000006   \n",
       "1  0.000056  0.000066  0.000055  0.018877  0.018267  0.016651  0.000002   \n",
       "2  0.000067  0.000080  0.000065  0.022141  0.022254  0.018988 -0.000001   \n",
       "3  0.000068  0.000109  0.000117  0.027901  0.058374  0.074973 -0.000004   \n",
       "4  0.000058  0.000071  0.000061  0.018342  0.040055  0.035330  0.000004   \n",
       "\n",
       "      meanY         meanZ      varX  ...  jerk_std_mag  jerk_skew_mag  \\\n",
       "0 -0.000017  1.026619e-05  0.002870  ...      0.003908       0.045758   \n",
       "1  0.000008  1.529295e-05  0.002154  ...      0.003090       0.045796   \n",
       "2  0.000025 -7.708126e-06  0.002588  ...      0.003800      -0.073022   \n",
       "3  0.000004 -1.207512e-05  0.002627  ...      0.004139       0.135194   \n",
       "4 -0.000003  8.239709e-07  0.002237  ...      0.003564       0.480899   \n",
       "\n",
       "   jerk_kur_mag                                    ID  subject_id  \\\n",
       "0      2.562344  00195693-95f6-4ee7-94eb-366c2963b5c3        1051   \n",
       "1      0.688963  00195693-95f6-4ee7-94eb-366c2963b5c3        1051   \n",
       "2      0.820442  00195693-95f6-4ee7-94eb-366c2963b5c3        1051   \n",
       "3      2.450584  00195693-95f6-4ee7-94eb-366c2963b5c3        1051   \n",
       "4      8.002096  00195693-95f6-4ee7-94eb-366c2963b5c3        1051   \n",
       "\n",
       "       timestamp  activity_intensity  dyskinesia  on_off  tremor  \n",
       "0  1511803800000                 0.0         0.0       0     0.0  \n",
       "1  1511803800000                 0.0         0.0       0     0.0  \n",
       "2  1511803800000                 0.0         0.0       0     0.0  \n",
       "3  1511803800000                 0.0         0.0       0     0.0  \n",
       "4  1511803800000                 0.0         0.0       0     0.0  \n",
       "\n",
       "[5 rows x 81 columns]"
      ]
     },
     "execution_count": 133,
     "metadata": {},
     "output_type": "execute_result"
    }
   ],
   "source": [
    "Data.head()"
   ]
  },
  {
   "cell_type": "code",
   "execution_count": 187,
   "metadata": {},
   "outputs": [
    {
     "data": {
      "text/plain": [
       "array([1051, 1032, 1038, 1049, 1044, 1030, 1016, 1018, 1039, 1006, 1041,\n",
       "       1020, 1007, 1034, 1004, 1023, 1019, 1048, 1046, 1043, 1000, 1022],\n",
       "      dtype=int64)"
      ]
     },
     "execution_count": 187,
     "metadata": {},
     "output_type": "execute_result"
    }
   ],
   "source": [
    "Data.subject_id.unique()"
   ]
  },
  {
   "cell_type": "markdown",
   "metadata": {},
   "source": [
    "## On/Off"
   ]
  },
  {
   "cell_type": "code",
   "execution_count": 253,
   "metadata": {
    "scrolled": true
   },
   "outputs": [
    {
     "name": "stdout",
     "output_type": "stream",
     "text": [
      "1051\n",
      "0.6122655258589312\n",
      "0.8344855967078189\n",
      "1032\n",
      "0.497012524497903\n",
      "0.4492763772175537\n",
      "1038\n",
      "0.6766395241934894\n",
      "0.823939393939394\n",
      "1049\n",
      "0.5772624890654916\n",
      "0.6416666666666667\n",
      "1044\n",
      "0.505089058524173\n",
      "0.4761904761904762\n",
      "1030\n",
      "Not enough classes in training data\n",
      "1016\n",
      "Not enough classes in training data\n",
      "1018\n",
      "Not enough classes in test data\n",
      "1039\n",
      "0.5101002263342371\n",
      "0.4753968253968254\n",
      "1006\n",
      "Too many classes in test data\n",
      "1041\n",
      "Not enough classes in test data\n",
      "1020\n",
      "0.6394177836530481\n",
      "0.8793706293706294\n",
      "1007\n",
      "0.5196132994570751\n",
      "0.5478801169590644\n",
      "1034\n",
      "0.5103152714437545\n",
      "0.65\n",
      "1004\n",
      "0.54466759342127\n",
      "0.5833333333333333\n",
      "1023\n",
      "0.5081000847597009\n",
      "0.5254298941798942\n",
      "1019\n",
      "0.7107992893336977\n",
      "0.8333333333333334\n",
      "1048\n",
      "0.6105611339824296\n",
      "0.730969030969031\n",
      "1046\n",
      "0.5022775635057853\n",
      "0.5\n",
      "1043\n",
      "0.7872757177033494\n",
      "0.95\n",
      "1000\n",
      "Not enough classes in test data\n",
      "1022\n",
      "Not enough classes in training data\n"
     ]
    }
   ],
   "source": [
    "ground_truth = np.array([]); preds = np.array([])\n",
    "for s in Data.subject_id.unique():\n",
    "    print(s)\n",
    "    SubjData = Data[Data.subject_id==s].copy()\n",
    "    SubjData.sort_values(by='timestamp',inplace=True)\n",
    "    SubjData = SubjData[SubjData.on_off>-1]\n",
    "    X = SubjData.iloc[:,:-7].values\n",
    "    Y = SubjData.on_off.values\n",
    "    # Limit to 0,1,2\n",
    "    #Y[Y>2]=2\n",
    "    X_train = X[:int(len(X)*.9),:];X_test = X[int(len(X)*.9):,:]\n",
    "    Y_train = Y[:int(len(Y)*.9)];Y_test = Y[int(len(Y)*.9):]\n",
    "    IDs = SubjData.ID.values[int(len(Y)*.9):]\n",
    "    \n",
    "    if len(np.unique(Y_train))>1:\n",
    "        model = RandomForestClassifier(n_estimators=20,random_state=2)\n",
    "        model.fit(X_train,Y_train)\n",
    "        p = model.predict(X_test)\n",
    "        probs = model.predict_proba(X_test)\n",
    "        \n",
    "        lab = model.classes_\n",
    "        \n",
    "        if len(np.unique(Y_test))>1 and len(np.unique(Y_test))<=len(lab):\n",
    "\n",
    "            ## Bin probabilities over each diary entry\n",
    "            probs_bin = []; ground_truth_bin = []\n",
    "            for ID in np.unique(IDs):\n",
    "                probs_bin.append(np.mean(probs[IDs==ID,:],axis=0).reshape([1,-1]))\n",
    "                ground_truth_bin.append(np.mean(Y_test[IDs==ID]))\n",
    "            \n",
    "            probs_bin=np.vstack(probs_bin); ground_truth_bin = np.vstack(ground_truth_bin)\n",
    "\n",
    "            Y_test = label_binarize(Y_test,lab)\n",
    "            ground_truth_bin = label_binarize(ground_truth_bin,lab)\n",
    "            \n",
    "            ## drop probabilities for classes not found in test data\n",
    "            for i in list(range(np.shape(Y_test)[1]))[::-1]:\n",
    "                if not any(ground_truth_bin[:,i]):\n",
    "                    ind = np.argmax(lab==i)\n",
    "                    probs = np.delete(probs,i,axis=1)\n",
    "                    probs_bin = np.delete(probs_bin,i,axis=1)\n",
    "                    Y_test = np.delete(Y_test,i,axis=1)\n",
    "                    ground_truth_bin = np.delete(ground_truth_bin,i,axis=1)\n",
    "\n",
    "            if len(lab)>2:\n",
    "                print(roc_auc_score(Y_test,probs,average='weighted'))\n",
    "                ## print AUROC for each label \n",
    "                #print(roc_auc_score(label_binarize(Y_test,lab),probs,average=None))\n",
    "\n",
    "                print(roc_auc_score(ground_truth_bin,probs_bin,average='weighted'))\n",
    "                ## print AUROC for each label \n",
    "                #print(roc_auc_score(label_binarize(Y_test,lab),probs,average=None))\n",
    "\n",
    "            ##\n",
    "            elif len(lab)==2:\n",
    "                print(roc_auc_score(Y_test,probs[:,0],average='weighted'))\n",
    "                ## print AUROC for each label \n",
    "                #print(roc_auc_score(label_binarize(Y_test,lab),probs[:,0],average=None))\n",
    "\n",
    "                print(roc_auc_score(ground_truth_bin,probs_bin[:,0],average='weighted'))\n",
    "                ## print AUROC for each label \n",
    "                #print(roc_auc_score(label_binarize(Y_test,lab),probs_bin[:,0],average=None))\n",
    "                    \n",
    "        elif len(np.unique(Y_test))>len(lab):\n",
    "            print('Too many classes in test data')\n",
    "        else:\n",
    "            print('Not enough classes in test data')\n",
    "    else:\n",
    "        print('Not enough classes in training data')\n"
   ]
  },
  {
   "cell_type": "code",
   "execution_count": 228,
   "metadata": {},
   "outputs": [],
   "source": [
    "raw_auc = [0.6122655258589312, 0.497012524497903, 0.6766395241934894, 0.5772624890654916, 0.505089058524173, \n",
    "           0.5101002263342371, 0.6394177836530481, 0.5196132994570751, 0.5103152714437545, 0.54466759342127, \n",
    "           0.5081000847597009, 0.7107992893336977, 0.6105611339824296, 0.5022775635057853, 0.7872757177033494]\n",
    "\n",
    "bin_auc = [0.8344855967078189, 0.4492763772175537, 0.823939393939394, 0.6416666666666667, 0.4761904761904762, \n",
    "           0.4753968253968254, 0.8793706293706294, 0.5478801169590644, 0.65, 0.5833333333333333, 0.5254298941798942, \n",
    "           0.8333333333333334, 0.730969030969031, 0.5, 0.95]"
   ]
  },
  {
   "cell_type": "code",
   "execution_count": 229,
   "metadata": {},
   "outputs": [
    {
     "name": "stdout",
     "output_type": "stream",
     "text": [
      "0.5807598057156225 0.5347769617055079\n"
     ]
    }
   ],
   "source": [
    "## Raw result\n",
    "m = np.mean(raw_auc)\n",
    "s = scipy.stats.sem(raw_auc)\n",
    "print(m,m-1.98*s) # mean and lower-bound of 95% CI"
   ]
  },
  {
   "cell_type": "code",
   "execution_count": 230,
   "metadata": {},
   "outputs": [
    {
     "name": "stdout",
     "output_type": "stream",
     "text": [
      "0.660084778284268 0.5737257787581878\n"
     ]
    }
   ],
   "source": [
    "## Diary binning result\n",
    "m = np.mean(bin_auc)\n",
    "s = scipy.stats.sem(bin_auc)\n",
    "print(m,m-1.98*s) # mean and lower-bound of 95% CI"
   ]
  },
  {
   "cell_type": "code",
   "execution_count": 231,
   "metadata": {},
   "outputs": [
    {
     "data": {
      "text/plain": [
       "Ttest_relResult(statistic=-3.3068624906298343, pvalue=0.00519092037311864)"
      ]
     },
     "execution_count": 231,
     "metadata": {},
     "output_type": "execute_result"
    }
   ],
   "source": [
    "scipy.stats.ttest_rel(raw_auc,bin_auc)"
   ]
  },
  {
   "cell_type": "markdown",
   "metadata": {},
   "source": [
    "## Dyskinesia"
   ]
  },
  {
   "cell_type": "code",
   "execution_count": 232,
   "metadata": {
    "scrolled": true
   },
   "outputs": [
    {
     "name": "stdout",
     "output_type": "stream",
     "text": [
      "1051\n",
      "Not enough classes in test data\n",
      "1032\n",
      "Not enough classes in training data\n",
      "1038\n",
      "Not enough classes in test data\n",
      "1049\n",
      "0.4978134315591245\n",
      "0.47222222222222215\n",
      "1044\n",
      "Not enough classes in test data\n",
      "1030\n",
      "Not enough classes in training data\n",
      "1016\n",
      "Not enough classes in training data\n",
      "1018\n",
      "Not enough classes in training data\n",
      "1039\n",
      "0.46584783094635684\n",
      "0.4743282498184459\n",
      "1006\n",
      "Not enough classes in training data\n",
      "1041\n",
      "Not enough classes in training data\n",
      "1020\n",
      "Not enough classes in training data\n",
      "1007\n",
      "0.5337899470752676\n",
      "0.6671408250355618\n",
      "1034\n",
      "0.5645252935974029\n",
      "0.6222222222222221\n",
      "1004\n",
      "0.5528590319567228\n",
      "0.6944444444444445\n",
      "1023\n",
      "0.5628169691003799\n",
      "0.6393769629063747\n",
      "1019\n",
      "0.6168678118626606\n",
      "0.8333333333333334\n",
      "1048\n",
      "0.39537167239435467\n",
      "0.3496031746031746\n",
      "1046\n",
      "Not enough classes in test data\n",
      "1043\n",
      "0.8928289473684211\n",
      "0.95\n",
      "1000\n",
      "Not enough classes in training data\n",
      "1022\n",
      "Not enough classes in training data\n"
     ]
    }
   ],
   "source": [
    "ground_truth = np.array([]); preds = np.array([])\n",
    "for s in Data.subject_id.unique():\n",
    "    print(s)\n",
    "    SubjData = Data[Data.subject_id==s].copy()\n",
    "    SubjData.sort_values(by='timestamp',inplace=True)\n",
    "    SubjData = SubjData[SubjData.on_off>-1]\n",
    "    X = SubjData.iloc[:,:-7].values\n",
    "    Y = SubjData.dyskinesia.values\n",
    "    X_train = X[:int(len(X)*.9),:];X_test = X[int(len(X)*.9):,:]\n",
    "    Y_train = Y[:int(len(Y)*.9)];Y_test = Y[int(len(Y)*.9):]\n",
    "    IDs = SubjData.ID.values[int(len(Y)*.9):]\n",
    "    \n",
    "    if len(np.unique(Y_train))>1:\n",
    "        model = RandomForestClassifier(n_estimators=20,random_state=2)\n",
    "        model.fit(X_train,Y_train)\n",
    "        p = model.predict(X_test)\n",
    "        probs = model.predict_proba(X_test)\n",
    "        \n",
    "        lab = model.classes_\n",
    "        \n",
    "        if len(np.unique(Y_test))>1 and len(np.unique(Y_test))<=len(lab):\n",
    "\n",
    "            ## Bin probabilities over each diary entry\n",
    "            probs_bin = []; ground_truth_bin = []\n",
    "            for ID in np.unique(IDs):\n",
    "                probs_bin.append(np.mean(probs[IDs==ID,:],axis=0).reshape([1,-1]))\n",
    "                ground_truth_bin.append(np.mean(Y_test[IDs==ID]))\n",
    "            \n",
    "            probs_bin=np.vstack(probs_bin); ground_truth_bin = np.vstack(ground_truth_bin)\n",
    "\n",
    "            Y_test = label_binarize(Y_test,lab)\n",
    "            ground_truth_bin = label_binarize(ground_truth_bin,lab)\n",
    "            \n",
    "            ## drop probabilities for classes not found in test data\n",
    "            for i in list(range(np.shape(Y_test)[1]))[::-1]:\n",
    "                if not any(ground_truth_bin[:,i]):\n",
    "                    ind = np.argmax(lab==i)\n",
    "                    probs = np.delete(probs,i,axis=1)\n",
    "                    probs_bin = np.delete(probs_bin,i,axis=1)\n",
    "                    Y_test = np.delete(Y_test,i,axis=1)\n",
    "                    ground_truth_bin = np.delete(ground_truth_bin,i,axis=1)\n",
    "\n",
    "            if len(lab)>2:\n",
    "                print(roc_auc_score(Y_test,probs,average='weighted'))\n",
    "                ## print AUROC for each label \n",
    "                #print(roc_auc_score(label_binarize(Y_test,lab),probs,average=None))\n",
    "\n",
    "                print(roc_auc_score(ground_truth_bin,probs_bin,average='weighted'))\n",
    "                ## print AUROC for each label \n",
    "                #print(roc_auc_score(label_binarize(Y_test,lab),probs,average=None))\n",
    "\n",
    "            ##\n",
    "            elif len(lab)==2:\n",
    "                print(roc_auc_score(Y_test,probs[:,0],average='weighted'))\n",
    "                ## print AUROC for each label \n",
    "                #print(roc_auc_score(label_binarize(Y_test,lab),probs[:,0],average=None))\n",
    "\n",
    "                print(roc_auc_score(ground_truth_bin,probs_bin[:,0],average='weighted'))\n",
    "                ## print AUROC for each label \n",
    "                #print(roc_auc_score(label_binarize(Y_test,lab),probs_bin[:,0],average=None))\n",
    "                    \n",
    "        elif len(np.unique(Y_test))>len(lab):\n",
    "            print('Too many classes in test data')\n",
    "        else:\n",
    "            print('Not enough classes in test data')\n",
    "    else:\n",
    "        print('Not enough classes in training data')\n"
   ]
  },
  {
   "cell_type": "code",
   "execution_count": 233,
   "metadata": {},
   "outputs": [],
   "source": [
    "raw_auc = [0.4978134315591245, 0.46584783094635684, 0.5337899470752676, 0.5645252935974029, 0.5528590319567228, \n",
    "           0.5628169691003799, 0.6168678118626606, 0.39537167239435467, 0.8928289473684211]\n",
    "\n",
    "bin_auc = [0.47222222222222215, 0.4743282498184459, 0.6671408250355618, 0.6222222222222221, 0.6944444444444445, \n",
    "           0.6393769629063747, 0.8333333333333334, 0.3496031746031746, 0.95]"
   ]
  },
  {
   "cell_type": "code",
   "execution_count": 234,
   "metadata": {},
   "outputs": [
    {
     "name": "stdout",
     "output_type": "stream",
     "text": [
      "0.564746770651188 0.4730545826231837\n"
     ]
    }
   ],
   "source": [
    "## Raw result\n",
    "m = np.mean(raw_auc)\n",
    "s = scipy.stats.sem(raw_auc)\n",
    "print(m,m-1.98*s) # mean and lower-bound of 95% CI"
   ]
  },
  {
   "cell_type": "code",
   "execution_count": 235,
   "metadata": {},
   "outputs": [
    {
     "name": "stdout",
     "output_type": "stream",
     "text": [
      "0.6336301593984199 0.5108061518380327\n"
     ]
    }
   ],
   "source": [
    "## Raw result\n",
    "m = np.mean(bin_auc)\n",
    "s = scipy.stats.sem(bin_auc)\n",
    "print(m,m-1.98*s) # mean and lower-bound of 95% CI"
   ]
  },
  {
   "cell_type": "code",
   "execution_count": 236,
   "metadata": {},
   "outputs": [
    {
     "data": {
      "text/plain": [
       "Ttest_relResult(statistic=-2.4425642216240004, pvalue=0.04040258816848452)"
      ]
     },
     "execution_count": 236,
     "metadata": {},
     "output_type": "execute_result"
    }
   ],
   "source": [
    "scipy.stats.ttest_rel(raw_auc,bin_auc)"
   ]
  },
  {
   "cell_type": "markdown",
   "metadata": {},
   "source": [
    "## Tremor"
   ]
  },
  {
   "cell_type": "code",
   "execution_count": 256,
   "metadata": {
    "scrolled": true
   },
   "outputs": [
    {
     "name": "stdout",
     "output_type": "stream",
     "text": [
      "1051\n",
      "Not enough classes in test data\n",
      "1032\n",
      "0.5768668668668668\n",
      "0.674074074074074\n",
      "1038\n",
      "0.3338373655913978\n",
      "0.06666666666666667\n",
      "1049\n",
      "Not enough classes in test data\n",
      "1044\n",
      "Not enough classes in training data\n",
      "1030\n",
      "Not enough classes in training data\n",
      "1016\n",
      "0.40570175438596495\n",
      "0.19999999999999996\n",
      "1018\n",
      "Not enough classes in training data\n",
      "1039\n",
      "0.4976803221288516\n",
      "0.47058823529411764\n",
      "1006\n",
      "Not enough classes in test data\n",
      "1041\n",
      "Not enough classes in test data\n",
      "1020\n",
      "0.4517378111581182\n",
      "0.36363636363636365\n",
      "1007\n",
      "0.483271800281294\n",
      "0.37739463601532564\n",
      "1034\n",
      "0.5282155797101449\n",
      "0.5\n",
      "1004\n",
      "Not enough classes in test data\n",
      "1023\n",
      "0.4197710073068893\n",
      "0.109375\n",
      "1019\n",
      "Not enough classes in test data\n",
      "1048\n",
      "Not enough classes in training data\n",
      "1046\n",
      "Not enough classes in test data\n",
      "1043\n",
      "0.3297727272727273\n",
      "0.16666666666666666\n",
      "1000\n",
      "Not enough classes in test data\n",
      "1022\n",
      "Not enough classes in training data\n"
     ]
    }
   ],
   "source": [
    "ground_truth = np.array([]); preds = np.array([])\n",
    "for s in Data.subject_id.unique():\n",
    "    print(s)\n",
    "    SubjData = Data[Data.subject_id==s].copy()\n",
    "    SubjData.sort_values(by='timestamp',inplace=True)\n",
    "    SubjData = SubjData[SubjData.on_off>-1]\n",
    "    X = SubjData.iloc[:,:-7].values\n",
    "    Y = SubjData.tremor.values\n",
    "    Y[Y>1]=1\n",
    "    X_train = X[:int(len(X)*.9),:];X_test = X[int(len(X)*.9):,:]\n",
    "    Y_train = Y[:int(len(Y)*.9)];Y_test = Y[int(len(Y)*.9):]\n",
    "    IDs = SubjData.ID.values[int(len(Y)*.9):]\n",
    "    \n",
    "    if len(np.unique(Y_train))>1:\n",
    "        model = RandomForestClassifier(n_estimators=20,random_state=2)\n",
    "        model.fit(X_train,Y_train)\n",
    "        p = model.predict(X_test)\n",
    "        probs = model.predict_proba(X_test)\n",
    "        \n",
    "        lab = model.classes_\n",
    "        \n",
    "        if len(np.unique(Y_test))>1 and len(np.unique(Y_test))<=len(lab):\n",
    "\n",
    "            ## Bin probabilities over each diary entry\n",
    "            probs_bin = []; ground_truth_bin = []\n",
    "            for ID in np.unique(IDs):\n",
    "                probs_bin.append(np.mean(probs[IDs==ID,:],axis=0).reshape([1,-1]))\n",
    "                ground_truth_bin.append(np.mean(Y_test[IDs==ID]))\n",
    "            \n",
    "            probs_bin=np.vstack(probs_bin); ground_truth_bin = np.vstack(ground_truth_bin)\n",
    "\n",
    "            Y_test = label_binarize(Y_test,lab)\n",
    "            ground_truth_bin = label_binarize(ground_truth_bin,lab)\n",
    "            \n",
    "            ## drop probabilities for classes not found in test data\n",
    "            for i in list(range(np.shape(Y_test)[1]))[::-1]:\n",
    "                if not any(ground_truth_bin[:,i]):\n",
    "                    ind = np.argmax(lab==i)\n",
    "                    probs = np.delete(probs,i,axis=1)\n",
    "                    probs_bin = np.delete(probs_bin,i,axis=1)\n",
    "                    Y_test = np.delete(Y_test,i,axis=1)\n",
    "                    ground_truth_bin = np.delete(ground_truth_bin,i,axis=1)\n",
    "\n",
    "            if len(lab)>2:\n",
    "                print(roc_auc_score(Y_test,probs,average='weighted'))\n",
    "                ## print AUROC for each label \n",
    "                #print(roc_auc_score(label_binarize(Y_test,lab),probs,average=None))\n",
    "\n",
    "                print(roc_auc_score(ground_truth_bin,probs_bin,average='weighted'))\n",
    "                ## print AUROC for each label \n",
    "                #print(roc_auc_score(label_binarize(Y_test,lab),probs,average=None))\n",
    "\n",
    "            ##\n",
    "            elif len(lab)==2:\n",
    "                print(roc_auc_score(Y_test,probs[:,0],average='weighted'))\n",
    "                ## print AUROC for each label \n",
    "                #print(roc_auc_score(label_binarize(Y_test,lab),probs[:,0],average=None))\n",
    "\n",
    "                print(roc_auc_score(ground_truth_bin,probs_bin[:,0],average='weighted'))\n",
    "                ## print AUROC for each label \n",
    "                #print(roc_auc_score(label_binarize(Y_test,lab),probs_bin[:,0],average=None))\n",
    "                    \n",
    "        elif len(np.unique(Y_test))>len(lab):\n",
    "            print('Too many classes in test data')\n",
    "        else:\n",
    "            print('Not enough classes in test data')\n",
    "    else:\n",
    "        print('Not enough classes in training data')\n"
   ]
  },
  {
   "cell_type": "code",
   "execution_count": 242,
   "metadata": {},
   "outputs": [],
   "source": [
    "raw_auc = [0.4225849563389757, 0.5971648276793048, 0.5739765442177425, 0.40570175438596495, 0.4976803221288516, \n",
    "           0.527301023039698, 0.5111569507252405, 0.4805223537360696, 0.5409254768413324, 0.5120411156199407, \n",
    "           0.45914920306901585, 0.6192464552318847, 0.7677900717703349]\n",
    "\n",
    "bin_auc = [0.3305555555555556, 0.6683622828784118, 0.7133838383838386, 0.19999999999999996, 0.47058823529411764, \n",
    "           0.5680618401206636, 0.5716295242611033, 0.4166666666666667, 0.6770833333333334, 0.5, 0.4890873015873016, \n",
    "           1.0, 0.8833333333333334]"
   ]
  },
  {
   "cell_type": "code",
   "execution_count": 243,
   "metadata": {},
   "outputs": [
    {
     "name": "stdout",
     "output_type": "stream",
     "text": [
      "0.5319416195987967 0.48003531163971824\n"
     ]
    }
   ],
   "source": [
    "## Raw result\n",
    "m = np.mean(raw_auc)\n",
    "s = scipy.stats.sem(raw_auc)\n",
    "print(m,m-1.98*s) # mean and lower-bound of 95% CI"
   ]
  },
  {
   "cell_type": "code",
   "execution_count": 244,
   "metadata": {},
   "outputs": [
    {
     "name": "stdout",
     "output_type": "stream",
     "text": [
      "0.5760578393395636 0.4570694715165355\n"
     ]
    }
   ],
   "source": [
    "## Raw result\n",
    "m = np.mean(bin_auc)\n",
    "s = scipy.stats.sem(bin_auc)\n",
    "print(m,m-1.98*s) # mean and lower-bound of 95% CI"
   ]
  },
  {
   "cell_type": "code",
   "execution_count": 245,
   "metadata": {},
   "outputs": [
    {
     "data": {
      "text/plain": [
       "Ttest_relResult(statistic=-1.1294190986169828, pvalue=0.28079274160307294)"
      ]
     },
     "execution_count": 245,
     "metadata": {},
     "output_type": "execute_result"
    }
   ],
   "source": [
    "scipy.stats.ttest_rel(raw_auc,bin_auc)"
   ]
  },
  {
   "cell_type": "markdown",
   "metadata": {},
   "source": [
    "## Extra Code"
   ]
  },
  {
   "cell_type": "code",
   "execution_count": 155,
   "metadata": {},
   "outputs": [
    {
     "name": "stdout",
     "output_type": "stream",
     "text": [
      "1038\n",
      "1044\n",
      "0.5335400763358779\n",
      "1018\n",
      "1006\n",
      "1019\n",
      "0.18831658291457287\n",
      "1048\n",
      "1046\n",
      "0.48831294055060515\n",
      "1000\n",
      "0.6539248993213584\n"
     ]
    },
    {
     "data": {
      "image/png": "[encoded data removed]",
      "text/plain": [
       "<Figure size 432x288 with 2 Axes>"
      ]
     },
     "metadata": {
      "needs_background": "light"
     },
     "output_type": "display_data"
    }
   ],
   "source": [
    "ground_truth = np.array([]); preds = np.array([])\n",
    "for s in Data.subject_id.unique():\n",
    "    SubjData = Data[Data.subject_id==s].copy()\n",
    "    SubjData.sort_values(by='timestamp',inplace=True)\n",
    "    SubjData = SubjData[SubjData.on_off>-1]\n",
    "    X = SubjData.iloc[:,:-7].values\n",
    "    Y = SubjData.on_off.values;Y[Y>2]=2\n",
    "    X_train = X[:int(len(X)*.9),:];X_test = X[int(len(X)*.9):,:]\n",
    "    Y_train = Y[:int(len(Y)*.9)];Y_test = Y[int(len(Y)*.9):]\n",
    "    \n",
    "    if len(np.unique(Y_train))==2:\n",
    "        print(s)\n",
    "        model = RandomForestClassifier(n_estimators=20)\n",
    "        model.fit(X_train,Y_train)\n",
    "        p = model.predict(X_test)\n",
    "        ground_truth = np.concatenate([ground_truth,Y_test])\n",
    "        preds = np.concatenate([preds,p])\n",
    "        probs = model.predict_proba(X_test)\n",
    "        \n",
    "        lab = sorted(np.unique(Y_train))\n",
    "        if len(np.unique(Y_test))==len(lab):\n",
    "            print(roc_auc_score(label_binarize(Y_test,lab),probs[:,1],average='weighted'))\n",
    "#             print(roc_auc_score(label_binarize(Y_test,lab),label_binarize(p,lab),average=None))\n",
    "    \n",
    "#     roc_auc_score()\n",
    "\n",
    "lab = sorted(np.unique(ground_truth))\n",
    "\n",
    "cmat = confusion_matrix(ground_truth,preds,labels = lab)\n",
    "sns.heatmap(cmat/np.sum(cmat,axis=1).reshape([-1,1]))\n",
    "print(roc_auc_score(label_binarize(ground_truth,lab),label_binarize(preds,lab),average='weighted'))\n",
    "# print(roc_auc_score(label_binarize(ground_truth,lab),label_binarize(preds,lab),average=None))"
   ]
  },
  {
   "cell_type": "code",
   "execution_count": 71,
   "metadata": {},
   "outputs": [
    {
     "data": {
      "text/plain": [
       "array([-1.,  0.,  1.])"
      ]
     },
     "execution_count": 71,
     "metadata": {},
     "output_type": "execute_result"
    }
   ],
   "source": [
    "np.unique(ground_truth)"
   ]
  },
  {
   "cell_type": "code",
   "execution_count": 88,
   "metadata": {},
   "outputs": [
    {
     "name": "stdout",
     "output_type": "stream",
     "text": [
      "[0.0, 1.0]\n",
      "0.5808015513897867\n",
      "[0.0, 1.0]\n",
      "0.5495466321243523\n",
      "[0.0, 1.0]\n",
      "0.4874031986531986\n",
      "[0.0, 1.0]\n",
      "0.4990059642147117\n",
      "0.824743363729464\n"
     ]
    },
    {
     "data": {
      "image/png": "[encoded data removed]",
      "text/plain": [
       "<Figure size 432x288 with 2 Axes>"
      ]
     },
     "metadata": {
      "needs_background": "light"
     },
     "output_type": "display_data"
    }
   ],
   "source": [
    "ground_truth = np.array([]); preds = np.array([])\n",
    "for s in Data.subject_id.unique():\n",
    "    SubjData = Data[Data.subject_id==s].copy()\n",
    "    SubjData.sort_values(by='timestamp',inplace=True)\n",
    "    SubjData.drop(labels=['ID', 'subject_id', 'timestamp', 'dyskinesia', 'on_off', 'tremor'],\n",
    "                  axis=1,inplace=True)\n",
    "    SubjData.dropna(inplace=True)\n",
    "    X = SubjData.iloc[:,:-1].values\n",
    "    Y = SubjData.activity_intensity.values;Y[Y>1]=1\n",
    "    X_train = X[:int(len(X)*.9),:];X_test = X[int(len(X)*.9):,:]\n",
    "    Y_train = Y[:int(len(Y)*.9)];Y_test = Y[int(len(Y)*.9):]\n",
    "    \n",
    "    if len(Y_train)>0:\n",
    "        model = RandomForestClassifier(n_estimators=20)\n",
    "        model.fit(X_train,Y_train)\n",
    "        p = model.predict(X_test)\n",
    "        ground_truth = np.concatenate([ground_truth,Y_test])\n",
    "        preds = np.concatenate([preds,p])\n",
    "        \n",
    "        lab = sorted(np.unique(Y_test))\n",
    "        if len(lab)>1:\n",
    "            print(lab)\n",
    "            print(roc_auc_score(label_binarize(Y_test,lab),label_binarize(p,lab),average='weighted'))\n",
    "#             print(roc_auc_score(label_binarize(Y_test,lab),label_binarize(p,lab),average=None))\n",
    "    \n",
    "#     roc_auc_score()\n",
    "\n",
    "lab = sorted(np.unique(ground_truth))\n",
    "\n",
    "cmat = confusion_matrix(ground_truth,preds,labels = lab)\n",
    "sns.heatmap(cmat/np.sum(cmat,axis=1).reshape([-1,1]))\n",
    "print(roc_auc_score(label_binarize(ground_truth,lab),label_binarize(preds,lab),average='weighted'))\n",
    "# print(roc_auc_score(label_binarize(ground_truth,lab),label_binarize(preds,lab),average=None))"
   ]
  },
  {
   "cell_type": "code",
   "execution_count": 92,
   "metadata": {},
   "outputs": [
    {
     "name": "stdout",
     "output_type": "stream",
     "text": [
      "2\n",
      "1\n",
      "2\n",
      "2\n",
      "2\n",
      "1\n",
      "1\n",
      "1\n",
      "2\n",
      "1\n",
      "1\n",
      "1\n",
      "2\n",
      "2\n",
      "2\n",
      "2\n",
      "2\n",
      "2\n",
      "2\n",
      "2\n",
      "1\n",
      "0\n",
      "0.8735108753476962\n"
     ]
    },
    {
     "data": {
      "image/png": "[encoded data removed]",
      "text/plain": [
       "<Figure size 432x288 with 2 Axes>"
      ]
     },
     "metadata": {
      "needs_background": "light"
     },
     "output_type": "display_data"
    }
   ],
   "source": [
    "ground_truth = np.array([]); preds = np.array([])\n",
    "for s in Data.subject_id.unique():\n",
    "    SubjData = Data[Data.subject_id==s].copy()\n",
    "    SubjData.sort_values(by='timestamp',inplace=True)\n",
    "    SubjData.drop(labels=['ID', 'subject_id', 'timestamp', 'activity_intensity', 'on_off', 'tremor'],\n",
    "                  axis=1,inplace=True)\n",
    "    SubjData.dropna(inplace=True)\n",
    "    X = SubjData.iloc[:,:-1].values\n",
    "    Y = SubjData.dyskinesia.values;Y[Y>1]=1\n",
    "    X_train = X[:int(len(X)*.9),:];X_test = X[int(len(X)*.9):,:]\n",
    "    Y_train = Y[:int(len(Y)*.9)];Y_test = Y[int(len(Y)*.9):]\n",
    "    \n",
    "    print(len(np.unique(Y)))\n",
    "    \n",
    "    if len(Y_train)>0:\n",
    "        model = RandomForestClassifier(n_estimators=20)\n",
    "        model.fit(X_train,Y_train)\n",
    "        p = model.predict(X_test)\n",
    "        ground_truth = np.concatenate([ground_truth,Y_test])\n",
    "        preds = np.concatenate([preds,p])\n",
    "        \n",
    "        lab = sorted(np.unique(Y_test))\n",
    "#         if len(lab)>1:\n",
    "#             print(lab)\n",
    "#             print(roc_auc_score(label_binarize(Y_test,lab),label_binarize(p,lab),average='weighted'))\n",
    "#             print(roc_auc_score(label_binarize(Y_test,lab),label_binarize(p,lab),average=None))\n",
    "#         else:\n",
    "#             print(s)\n",
    "    \n",
    "#     roc_auc_score()\n",
    "\n",
    "lab = sorted(np.unique(ground_truth))\n",
    "\n",
    "cmat = confusion_matrix(ground_truth,preds,labels = lab)\n",
    "sns.heatmap(cmat/np.sum(cmat,axis=1).reshape([-1,1]))\n",
    "print(roc_auc_score(label_binarize(ground_truth,lab),label_binarize(preds,lab),average='weighted'))\n",
    "# print(roc_auc_score(label_binarize(ground_truth,lab),label_binarize(preds,lab),average=None))"
   ]
  },
  {
   "cell_type": "code",
   "execution_count": 86,
   "metadata": {},
   "outputs": [
    {
     "name": "stdout",
     "output_type": "stream",
     "text": [
      "[0.0, 1.0]\n",
      "0.43536786786786785\n",
      "0.43536786786786785\n",
      "[0.0, 1.0]\n",
      "0.5\n",
      "0.5\n",
      "[0.0, 1.0]\n",
      "0.5\n",
      "0.5\n",
      "[0.0, 1.0]\n",
      "0.5\n",
      "0.5\n",
      "[0.0, 1.0]\n",
      "0.5\n",
      "0.5\n",
      "[0.0, 1.0]\n",
      "0.4980546507419471\n",
      "0.4980546507419471\n",
      "[0.0, 1.0]\n",
      "0.5513586956521739\n",
      "0.5513586956521739\n",
      "[0.0, 1.0]\n",
      "0.5092967118997913\n",
      "0.5092967118997913\n",
      "[0.0, 1.0]\n",
      "0.5380681818181818\n",
      "0.5380681818181818\n",
      "0.7864427762120331\n",
      "0.7864427762120331\n"
     ]
    },
    {
     "data": {
      "image/png": "[encoded data removed]",
      "text/plain": [
       "<Figure size 432x288 with 2 Axes>"
      ]
     },
     "metadata": {
      "needs_background": "light"
     },
     "output_type": "display_data"
    }
   ],
   "source": [
    "ground_truth = np.array([]); preds = np.array([])\n",
    "for s in Data.subject_id.unique():\n",
    "    SubjData = Data[Data.subject_id==s].copy()\n",
    "    SubjData.sort_values(by='timestamp',inplace=True)\n",
    "    SubjData.drop(labels=['ID', 'subject_id', 'timestamp', 'dyskinesia', 'on_off', 'activity_intensity'],\n",
    "                  axis=1,inplace=True)\n",
    "    SubjData.dropna(inplace=True)\n",
    "    X = SubjData.iloc[:,:-1].values\n",
    "    Y = SubjData.tremor.values;Y[Y>1]=1\n",
    "    X_train = X[:int(len(X)*.9),:];X_test = X[int(len(X)*.9):,:]\n",
    "    Y_train = Y[:int(len(Y)*.9)];Y_test = Y[int(len(Y)*.9):]\n",
    "    \n",
    "    if len(Y_train)>0:\n",
    "        model = RandomForestClassifier(n_estimators=20)\n",
    "        model.fit(X_train,Y_train)\n",
    "        p = model.predict(X_test)\n",
    "        ground_truth = np.concatenate([ground_truth,Y_test])\n",
    "        preds = np.concatenate([preds,p])\n",
    "        \n",
    "        lab = sorted(np.unique(Y_test))\n",
    "        if len(lab)>1:\n",
    "            print(lab)\n",
    "            print(roc_auc_score(label_binarize(Y_test,lab),label_binarize(p,lab),average='weighted'))\n",
    "            print(roc_auc_score(label_binarize(Y_test,lab),label_binarize(p,lab),average=None))\n",
    "    \n",
    "#     roc_auc_score()\n",
    "\n",
    "lab = sorted(np.unique(ground_truth))\n",
    "\n",
    "cmat = confusion_matrix(ground_truth,preds,labels = lab)\n",
    "sns.heatmap(cmat/np.sum(cmat,axis=1).reshape([-1,1]))\n",
    "print(roc_auc_score(label_binarize(ground_truth,lab),label_binarize(preds,lab),average='weighted'))\n",
    "print(roc_auc_score(label_binarize(ground_truth,lab),label_binarize(preds,lab),average=None))"
   ]
  },
  {
   "cell_type": "code",
   "execution_count": null,
   "metadata": {},
   "outputs": [],
   "source": []
  },
  {
   "cell_type": "code",
   "execution_count": 125,
   "metadata": {},
   "outputs": [
    {
     "name": "stdout",
     "output_type": "stream",
     "text": [
      "0.4962487914528457\n",
      "0.42020171092430747\n"
     ]
    },
    {
     "data": {
      "image/png": "[encoded data removed]",
      "text/plain": [
       "<Figure size 432x288 with 2 Axes>"
      ]
     },
     "metadata": {
      "needs_background": "light"
     },
     "output_type": "display_data"
    }
   ],
   "source": [
    "ground_truth = np.array([]); preds = np.array([]); IDs = np.array([])\n",
    "for s in Data.subject_id.unique():\n",
    "    TrainData = Data[Data.subject_id!=s].copy()\n",
    "    TrainData.drop(labels=['subject_id', 'timestamp', 'tremor', 'on_off', 'dyskinesia'],\n",
    "                   axis=1,inplace=True)\n",
    "    TrainData.dropna(inplace=True)\n",
    "    SubjData = Data[Data.subject_id==s].copy()\n",
    "    SubjData.drop(labels=['subject_id', 'timestamp', 'tremor', 'on_off', 'dyskinesia'],\n",
    "                  axis=1,inplace=True)\n",
    "    SubjData.dropna(inplace=True)\n",
    "    X_train = TrainData.values[:,:-2];X_test = SubjData.values[:,:-2]\n",
    "    Y_train = TrainData.activity_intensity.values;Y_test = SubjData.activity_intensity.values\n",
    "    Y_train[Y_train>1]=1;Y_test[Y_test>1]=1\n",
    "    \n",
    "    ID = SubjData.ID.values\n",
    "    \n",
    "    if len(Y_train)>0 and len(Y_test)>0:\n",
    "        model = RandomForestClassifier(n_estimators=20)\n",
    "        model.fit(X_train,Y_train)\n",
    "        p = model.predict(X_test)\n",
    "        ground_truth = np.concatenate([ground_truth,Y_test])\n",
    "        preds = np.concatenate([preds,p])\n",
    "        IDs = np.concatenate([IDs,ID])\n",
    "        \n",
    "        lab = sorted(np.unique(Y_train))\n",
    "#         if len(np.unique(Y_test))>1:\n",
    "#             print(roc_auc_score(label_binarize(Y_test,lab),model.predict_proba(X_test),average='weighted'))\n",
    "#             print(roc_auc_score(label_binarize(Y_test,lab),model.predict_proba(X_test)[:,0],average=None))\n",
    "    \n",
    "#     roc_auc_score()\n",
    "\n",
    "lab = sorted(np.unique(ground_truth))\n",
    "\n",
    "cmat = confusion_matrix(ground_truth,preds,labels = lab)\n",
    "sns.heatmap(cmat/np.sum(cmat,axis=1).reshape([-1,1]))\n",
    "print(roc_auc_score(label_binarize(ground_truth,lab),label_binarize(preds,lab),average='weighted'))\n",
    "# print(roc_auc_score(label_binarize(ground_truth,lab),label_binarize(preds,lab),average=None))\n",
    "\n",
    "print(roc_auc_score([np.mean(ground_truth[IDs==ID]) for ID in np.unique(IDs)],\n",
    "                    [np.mean(preds[IDs==ID]) for ID in np.unique(IDs)]))"
   ]
  },
  {
   "cell_type": "code",
   "execution_count": 119,
   "metadata": {},
   "outputs": [
    {
     "name": "stdout",
     "output_type": "stream",
     "text": [
      "0.500243921028563\n",
      "0.5033655022202567\n",
      "0.47825877782805015\n",
      "0.5303163611011495\n",
      "0.5131587470891433\n",
      "0.5543692467596619\n",
      "0.5073686483761128\n",
      "0.5469748186145708\n",
      "0.54742578125\n",
      "0.5416087771497216\n",
      "0.51871955609652\n",
      "0.49507099022259204\n",
      "0.5207609741395535\n",
      "0.5159736622073579\n",
      "0.5034586725275229\n",
      "0.3690232332488814\n",
      "0.5043365651578902\n",
      "0.5486683419511513\n",
      "0.533294084064797\n",
      "0.4523510559958134\n",
      "0.3259121090474969\n"
     ]
    },
    {
     "data": {
      "image/png": "[encoded data removed]",
      "text/plain": [
       "<Figure size 432x288 with 2 Axes>"
      ]
     },
     "metadata": {
      "needs_background": "light"
     },
     "output_type": "display_data"
    }
   ],
   "source": [
    "ground_truth = np.array([]); preds = np.array([]); IDs = np.array([])\n",
    "for s in Data.subject_id.unique():\n",
    "    TrainData = Data[Data.subject_id!=s].copy()\n",
    "    TrainData.drop(labels=['subject_id', 'timestamp', 'tremor', 'dyskinesia', 'activity_intensity'],\n",
    "                   axis=1,inplace=True)\n",
    "    TrainData.dropna(inplace=True)\n",
    "    TrainData = TrainData[TrainData.on_off>-1]\n",
    "    SubjData = Data[Data.subject_id==s].copy()\n",
    "    SubjData.drop(labels=['subject_id', 'timestamp', 'tremor', 'dyskinesia', 'activity_intensity'],\n",
    "                  axis=1,inplace=True)\n",
    "    SubjData.dropna(inplace=True)\n",
    "    SubjData = SubjData[SubjData.on_off>-1]\n",
    "    X_train = TrainData.values[:,:-2];X_test = SubjData.values[:,:-2]\n",
    "    Y_train = TrainData.on_off.values;Y_test = SubjData.on_off.values\n",
    "    Y_train[Y_train>1]=1;Y_test[Y_test>1]=1\n",
    "    \n",
    "    ID = SubjData.ID.values\n",
    "    \n",
    "    if len(Y_train)>0 and len(Y_test)>0:\n",
    "        model = RandomForestClassifier(n_estimators=20)\n",
    "        model.fit(X_train,Y_train)\n",
    "        p = model.predict(X_test)\n",
    "        ground_truth = np.concatenate([ground_truth,Y_test])\n",
    "        preds = np.concatenate([preds,p])\n",
    "        IDs = np.concatenate([IDs,ID])\n",
    "        \n",
    "        lab = sorted(np.unique(Y_test))\n",
    "        if len(lab)>1:\n",
    "            print(roc_auc_score(label_binarize(Y_test,lab),model.predict_proba(X_test)[:,0],average='weighted'))\n",
    "#             print(roc_auc_score(label_binarize(Y_test,lab),model.predict_proba(X_test)[:,0],average=None))\n",
    "    \n",
    "#     roc_auc_score()\n",
    "\n",
    "lab = sorted(np.unique(ground_truth))\n",
    "\n",
    "cmat = confusion_matrix(ground_truth,preds,labels = lab)\n",
    "sns.heatmap(cmat/np.sum(cmat,axis=1).reshape([-1,1]))\n",
    "print(roc_auc_score(label_binarize(ground_truth,lab),label_binarize(preds,lab),average='weighted'))\n",
    "# print(roc_auc_score(label_binarize(ground_truth,lab),label_binarize(preds,lab),average=None))\n",
    "\n",
    "print(roc_auc_score([np.mean(ground_truth[IDs==ID]) for ID in np.unique(IDs)],\n",
    "                    [np.mean(preds[IDs==ID]) for ID in np.unique(IDs)]))"
   ]
  },
  {
   "cell_type": "code",
   "execution_count": 116,
   "metadata": {},
   "outputs": [
    {
     "name": "stdout",
     "output_type": "stream",
     "text": [
      "0.5573496383100827\n",
      "0.458656811833331\n",
      "0.4739289234141034\n",
      "0.4858231994403939\n",
      "0.49394818728340545\n",
      "0.5711792102891654\n",
      "0.46814120631341605\n",
      "0.5516785366970312\n",
      "0.4824895543175488\n",
      "0.5086302363768282\n",
      "0.4269304682040531\n",
      "0.5522643121617773\n",
      "0.4883603908072071\n",
      "0.49115330725469714\n",
      "0.43222532861218665\n"
     ]
    },
    {
     "data": {
      "image/png": "[encoded data removed]",
      "text/plain": [
       "<Figure size 432x288 with 2 Axes>"
      ]
     },
     "metadata": {
      "needs_background": "light"
     },
     "output_type": "display_data"
    }
   ],
   "source": [
    "ground_truth = np.array([]); preds = np.array([]); IDs = np.array([])\n",
    "for s in Data.subject_id.unique():\n",
    "    TrainData = Data[Data.subject_id!=s].copy()\n",
    "    TrainData.drop(labels=['subject_id', 'timestamp', 'tremor', 'on_off', 'activity_intensity'],\n",
    "                   axis=1,inplace=True)\n",
    "    TrainData.dropna(inplace=True)\n",
    "    SubjData = Data[Data.subject_id==s].copy()\n",
    "    SubjData.drop(labels=['subject_id', 'timestamp', 'tremor', 'on_off', 'activity_intensity'],\n",
    "                  axis=1,inplace=True)\n",
    "    SubjData.dropna(inplace=True)\n",
    "    X_train = TrainData.values[:,:-2];X_test = SubjData.values[:,:-2]\n",
    "    Y_train = TrainData.dyskinesia.values;Y_test = SubjData.dyskinesia.values\n",
    "    Y_train[Y_train>1]=1;Y_test[Y_test>1]=1\n",
    "    \n",
    "    ID = SubjData.ID.values\n",
    "    \n",
    "    if len(Y_train)>0 and len(Y_test)>0:\n",
    "        model = RandomForestClassifier(n_estimators=20)\n",
    "        model.fit(X_train,Y_train)\n",
    "        p = model.predict(X_test)\n",
    "        ground_truth = np.concatenate([ground_truth,Y_test])\n",
    "        preds = np.concatenate([preds,p])\n",
    "        IDs = np.concatenate([IDs,ID])\n",
    "        \n",
    "        lab = sorted(np.unique(Y_test))\n",
    "        if len(lab)>1:\n",
    "            print(roc_auc_score(label_binarize(Y_test,lab),model.predict_proba(X_test)[:,0],average='weighted'))\n",
    "#             print(roc_auc_score(label_binarize(Y_test,lab),model.predict_proba(X_test)[:,0],average=None))\n",
    "    \n",
    "#     roc_auc_score()\n",
    "\n",
    "lab = sorted(np.unique(ground_truth))\n",
    "\n",
    "cmat = confusion_matrix(ground_truth,preds,labels = lab)\n",
    "sns.heatmap(cmat/np.sum(cmat,axis=1).reshape([-1,1]))\n",
    "print(roc_auc_score(label_binarize(ground_truth,lab),label_binarize(preds,lab),average='weighted'))\n",
    "# print(roc_auc_score(label_binarize(ground_truth,lab),label_binarize(preds,lab),average=None))\n",
    "\n",
    "print(roc_auc_score([np.mean(ground_truth[IDs==ID]) for ID in np.unique(IDs)],\n",
    "                    [np.mean(preds[IDs==ID]) for ID in np.unique(IDs)]))"
   ]
  },
  {
   "cell_type": "code",
   "execution_count": 122,
   "metadata": {},
   "outputs": [
    {
     "name": "stdout",
     "output_type": "stream",
     "text": [
      "0.5563338256765474\n",
      "0.4733649344325349\n",
      "0.35306861762398667\n",
      "0.4595688234082011\n",
      "0.4959605823863637\n",
      "0.45187678060666314\n",
      "0.49623950686119633\n",
      "0.5905208333333334\n",
      "0.5160701762075918\n",
      "0.4904979331621903\n",
      "0.545312341289995\n",
      "0.49579784245934055\n",
      "0.4933136701217387\n",
      "0.47330009970089737\n",
      "0.532157770820192\n",
      "0.586294048636357\n",
      "0.35485195060342406\n",
      "0.5602981937027284\n",
      "0.6649295585256736\n"
     ]
    },
    {
     "data": {
      "image/png": "[encoded data removed]",
      "text/plain": [
       "<Figure size 432x288 with 2 Axes>"
      ]
     },
     "metadata": {
      "needs_background": "light"
     },
     "output_type": "display_data"
    }
   ],
   "source": [
    "ground_truth = np.array([]); preds = np.array([]); IDs = np.array([])\n",
    "for s in Data.subject_id.unique():\n",
    "    TrainData = Data[Data.subject_id!=s].copy()\n",
    "    TrainData.drop(labels=['subject_id', 'timestamp', 'dyskinesia', 'on_off', 'activity_intensity'],\n",
    "                   axis=1,inplace=True)\n",
    "    TrainData.dropna(inplace=True)\n",
    "    SubjData = Data[Data.subject_id==s].copy()\n",
    "    SubjData.drop(labels=['subject_id', 'timestamp', 'dyskinesia', 'on_off', 'activity_intensity'],\n",
    "                  axis=1,inplace=True)\n",
    "    SubjData.dropna(inplace=True)\n",
    "    X_train = TrainData.values[:,:-2];X_test = SubjData.values[:,:-2]\n",
    "    Y_train = TrainData.tremor.values;Y_test = SubjData.tremor.values\n",
    "    Y_train[Y_train>1]=1;Y_test[Y_test>1]=1\n",
    "    \n",
    "    ID = SubjData.ID.values\n",
    "    \n",
    "    if len(Y_train)>0 and len(Y_test)>0:\n",
    "        model = RandomForestClassifier(n_estimators=20)\n",
    "        model.fit(X_train,Y_train)\n",
    "        p = model.predict(X_test)\n",
    "        ground_truth = np.concatenate([ground_truth,Y_test])\n",
    "        preds = np.concatenate([preds,p])\n",
    "        IDs = np.concatenate([IDs,ID])\n",
    "        \n",
    "        lab = sorted(np.unique(Y_test))\n",
    "        if len(lab)>1:\n",
    "            print(roc_auc_score(label_binarize(Y_test,lab),model.predict_proba(X_test)[:,0],average='weighted'))\n",
    "#             print(roc_auc_score(label_binarize(Y_test,lab),model.predict_proba(X_test)[:,0],average=None))\n",
    "    \n",
    "#     roc_auc_score()\n",
    "\n",
    "lab = sorted(np.unique(ground_truth))\n",
    "\n",
    "cmat = confusion_matrix(ground_truth,preds,labels = lab)\n",
    "sns.heatmap(cmat/np.sum(cmat,axis=1).reshape([-1,1]))\n",
    "print(roc_auc_score(label_binarize(ground_truth,lab),label_binarize(preds,lab),average='weighted'))\n",
    "# print(roc_auc_score(label_binarize(ground_truth,lab),label_binarize(preds,lab),average=None))\n",
    "\n",
    "print(roc_auc_score([np.mean(ground_truth[IDs==ID]) for ID in np.unique(IDs)],\n",
    "                    [np.mean(preds[IDs==ID]) for ID in np.unique(IDs)]))"
   ]
  },
  {
   "cell_type": "code",
   "execution_count": 114,
   "metadata": {},
   "outputs": [
    {
     "data": {
      "text/plain": [
       "0.657882843133135"
      ]
     },
     "execution_count": 114,
     "metadata": {},
     "output_type": "execute_result"
    }
   ],
   "source": [
    "roc_auc_score([np.mean(ground_truth[IDs==ID]) for ID in np.unique(IDs)],\n",
    "              [np.mean(preds[IDs==ID]) for ID in np.unique(IDs)])"
   ]
  },
  {
   "cell_type": "code",
   "execution_count": null,
   "metadata": {},
   "outputs": [],
   "source": []
  },
  {
   "cell_type": "code",
   "execution_count": 110,
   "metadata": {},
   "outputs": [
    {
     "data": {
      "text/html": [
       "<div>\n",
       "<style scoped>\n",
       "    .dataframe tbody tr th:only-of-type {\n",
       "        vertical-align: middle;\n",
       "    }\n",
       "\n",
       "    .dataframe tbody tr th {\n",
       "        vertical-align: top;\n",
       "    }\n",
       "\n",
       "    .dataframe thead th {\n",
       "        text-align: right;\n",
       "    }\n",
       "</style>\n",
       "<table border=\"1\" class=\"dataframe\">\n",
       "  <thead>\n",
       "    <tr style=\"text-align: right;\">\n",
       "      <th></th>\n",
       "      <th>RMSX</th>\n",
       "      <th>RMSY</th>\n",
       "      <th>RMSZ</th>\n",
       "      <th>rangeX</th>\n",
       "      <th>rangeY</th>\n",
       "      <th>rangeZ</th>\n",
       "      <th>meanX</th>\n",
       "      <th>meanY</th>\n",
       "      <th>meanZ</th>\n",
       "      <th>varX</th>\n",
       "      <th>...</th>\n",
       "      <th>PSD_mean_mag</th>\n",
       "      <th>PSD_std_mag</th>\n",
       "      <th>PSD_skew_mag</th>\n",
       "      <th>PSD_kur_mag</th>\n",
       "      <th>jerk_mean_mag</th>\n",
       "      <th>jerk_std_mag</th>\n",
       "      <th>jerk_skew_mag</th>\n",
       "      <th>jerk_kur_mag</th>\n",
       "      <th>ID</th>\n",
       "      <th>tremor</th>\n",
       "    </tr>\n",
       "  </thead>\n",
       "  <tbody>\n",
       "    <tr>\n",
       "      <th>0</th>\n",
       "      <td>0.000074</td>\n",
       "      <td>0.000082</td>\n",
       "      <td>0.000081</td>\n",
       "      <td>0.030553</td>\n",
       "      <td>0.029340</td>\n",
       "      <td>0.028807</td>\n",
       "      <td>-0.000006</td>\n",
       "      <td>-0.000017</td>\n",
       "      <td>1.026619e-05</td>\n",
       "      <td>0.002870</td>\n",
       "      <td>...</td>\n",
       "      <td>6.272033e-07</td>\n",
       "      <td>1.891230e-06</td>\n",
       "      <td>5.837888</td>\n",
       "      <td>38.086612</td>\n",
       "      <td>-1.618017e-06</td>\n",
       "      <td>0.003908</td>\n",
       "      <td>0.045758</td>\n",
       "      <td>2.562344</td>\n",
       "      <td>00195693-95f6-4ee7-94eb-366c2963b5c3</td>\n",
       "      <td>0.0</td>\n",
       "    </tr>\n",
       "    <tr>\n",
       "      <th>1</th>\n",
       "      <td>0.000056</td>\n",
       "      <td>0.000066</td>\n",
       "      <td>0.000055</td>\n",
       "      <td>0.018877</td>\n",
       "      <td>0.018267</td>\n",
       "      <td>0.016651</td>\n",
       "      <td>0.000002</td>\n",
       "      <td>0.000008</td>\n",
       "      <td>1.529295e-05</td>\n",
       "      <td>0.002154</td>\n",
       "      <td>...</td>\n",
       "      <td>3.481453e-07</td>\n",
       "      <td>6.543524e-07</td>\n",
       "      <td>2.646385</td>\n",
       "      <td>6.249822</td>\n",
       "      <td>-1.505870e-06</td>\n",
       "      <td>0.003090</td>\n",
       "      <td>0.045796</td>\n",
       "      <td>0.688963</td>\n",
       "      <td>00195693-95f6-4ee7-94eb-366c2963b5c3</td>\n",
       "      <td>0.0</td>\n",
       "    </tr>\n",
       "    <tr>\n",
       "      <th>2</th>\n",
       "      <td>0.000067</td>\n",
       "      <td>0.000080</td>\n",
       "      <td>0.000065</td>\n",
       "      <td>0.022141</td>\n",
       "      <td>0.022254</td>\n",
       "      <td>0.018988</td>\n",
       "      <td>-0.000001</td>\n",
       "      <td>0.000025</td>\n",
       "      <td>-7.708126e-06</td>\n",
       "      <td>0.002588</td>\n",
       "      <td>...</td>\n",
       "      <td>5.752197e-07</td>\n",
       "      <td>1.224423e-06</td>\n",
       "      <td>3.205763</td>\n",
       "      <td>10.612107</td>\n",
       "      <td>-4.364062e-07</td>\n",
       "      <td>0.003800</td>\n",
       "      <td>-0.073022</td>\n",
       "      <td>0.820442</td>\n",
       "      <td>00195693-95f6-4ee7-94eb-366c2963b5c3</td>\n",
       "      <td>0.0</td>\n",
       "    </tr>\n",
       "    <tr>\n",
       "      <th>3</th>\n",
       "      <td>0.000068</td>\n",
       "      <td>0.000109</td>\n",
       "      <td>0.000117</td>\n",
       "      <td>0.027901</td>\n",
       "      <td>0.058374</td>\n",
       "      <td>0.074973</td>\n",
       "      <td>-0.000004</td>\n",
       "      <td>0.000004</td>\n",
       "      <td>-1.207512e-05</td>\n",
       "      <td>0.002627</td>\n",
       "      <td>...</td>\n",
       "      <td>7.111670e-07</td>\n",
       "      <td>1.141293e-06</td>\n",
       "      <td>3.149749</td>\n",
       "      <td>11.517618</td>\n",
       "      <td>2.822701e-06</td>\n",
       "      <td>0.004139</td>\n",
       "      <td>0.135194</td>\n",
       "      <td>2.450584</td>\n",
       "      <td>00195693-95f6-4ee7-94eb-366c2963b5c3</td>\n",
       "      <td>0.0</td>\n",
       "    </tr>\n",
       "    <tr>\n",
       "      <th>4</th>\n",
       "      <td>0.000058</td>\n",
       "      <td>0.000071</td>\n",
       "      <td>0.000061</td>\n",
       "      <td>0.018342</td>\n",
       "      <td>0.040055</td>\n",
       "      <td>0.035330</td>\n",
       "      <td>0.000004</td>\n",
       "      <td>-0.000003</td>\n",
       "      <td>8.239709e-07</td>\n",
       "      <td>0.002237</td>\n",
       "      <td>...</td>\n",
       "      <td>4.197550e-07</td>\n",
       "      <td>8.757321e-07</td>\n",
       "      <td>3.743618</td>\n",
       "      <td>13.957902</td>\n",
       "      <td>-1.630992e-06</td>\n",
       "      <td>0.003564</td>\n",
       "      <td>0.480899</td>\n",
       "      <td>8.002096</td>\n",
       "      <td>00195693-95f6-4ee7-94eb-366c2963b5c3</td>\n",
       "      <td>0.0</td>\n",
       "    </tr>\n",
       "  </tbody>\n",
       "</table>\n",
       "<p>5 rows × 76 columns</p>\n",
       "</div>"
      ],
      "text/plain": [
       "       RMSX      RMSY      RMSZ    rangeX    rangeY    rangeZ     meanX  \\\n",
       "0  0.000074  0.000082  0.000081  0.030553  0.029340  0.028807 -0.000006   \n",
       "1  0.000056  0.000066  0.000055  0.018877  0.018267  0.016651  0.000002   \n",
       "2  0.000067  0.000080  0.000065  0.022141  0.022254  0.018988 -0.000001   \n",
       "3  0.000068  0.000109  0.000117  0.027901  0.058374  0.074973 -0.000004   \n",
       "4  0.000058  0.000071  0.000061  0.018342  0.040055  0.035330  0.000004   \n",
       "\n",
       "      meanY         meanZ      varX  ...  PSD_mean_mag   PSD_std_mag  \\\n",
       "0 -0.000017  1.026619e-05  0.002870  ...  6.272033e-07  1.891230e-06   \n",
       "1  0.000008  1.529295e-05  0.002154  ...  3.481453e-07  6.543524e-07   \n",
       "2  0.000025 -7.708126e-06  0.002588  ...  5.752197e-07  1.224423e-06   \n",
       "3  0.000004 -1.207512e-05  0.002627  ...  7.111670e-07  1.141293e-06   \n",
       "4 -0.000003  8.239709e-07  0.002237  ...  4.197550e-07  8.757321e-07   \n",
       "\n",
       "   PSD_skew_mag  PSD_kur_mag  jerk_mean_mag  jerk_std_mag  jerk_skew_mag  \\\n",
       "0      5.837888    38.086612  -1.618017e-06      0.003908       0.045758   \n",
       "1      2.646385     6.249822  -1.505870e-06      0.003090       0.045796   \n",
       "2      3.205763    10.612107  -4.364062e-07      0.003800      -0.073022   \n",
       "3      3.149749    11.517618   2.822701e-06      0.004139       0.135194   \n",
       "4      3.743618    13.957902  -1.630992e-06      0.003564       0.480899   \n",
       "\n",
       "   jerk_kur_mag                                    ID  tremor  \n",
       "0      2.562344  00195693-95f6-4ee7-94eb-366c2963b5c3     0.0  \n",
       "1      0.688963  00195693-95f6-4ee7-94eb-366c2963b5c3     0.0  \n",
       "2      0.820442  00195693-95f6-4ee7-94eb-366c2963b5c3     0.0  \n",
       "3      2.450584  00195693-95f6-4ee7-94eb-366c2963b5c3     0.0  \n",
       "4      8.002096  00195693-95f6-4ee7-94eb-366c2963b5c3     0.0  \n",
       "\n",
       "[5 rows x 76 columns]"
      ]
     },
     "execution_count": 110,
     "metadata": {},
     "output_type": "execute_result"
    }
   ],
   "source": [
    "SubjData.head()"
   ]
  },
  {
   "cell_type": "code",
   "execution_count": 108,
   "metadata": {},
   "outputs": [
    {
     "data": {
      "text/plain": [
       "array([0.0, 1.0], dtype=object)"
      ]
     },
     "execution_count": 108,
     "metadata": {},
     "output_type": "execute_result"
    }
   ],
   "source": [
    "np.unique(Y_train)"
   ]
  },
  {
   "cell_type": "code",
   "execution_count": 103,
   "metadata": {
    "scrolled": true
   },
   "outputs": [
    {
     "data": {
      "text/plain": [
       "array([[0.3 , 0.7 ],\n",
       "       [0.75, 0.25],\n",
       "       [0.7 , 0.3 ],\n",
       "       ...,\n",
       "       [0.65, 0.35],\n",
       "       [0.2 , 0.8 ],\n",
       "       [0.4 , 0.6 ]])"
      ]
     },
     "execution_count": 103,
     "metadata": {},
     "output_type": "execute_result"
    }
   ],
   "source": [
    "model.predict_proba(X_test)"
   ]
  },
  {
   "cell_type": "code",
   "execution_count": 102,
   "metadata": {},
   "outputs": [
    {
     "data": {
      "text/plain": [
       "array([[0],\n",
       "       [0],\n",
       "       [0],\n",
       "       ...,\n",
       "       [0],\n",
       "       [0],\n",
       "       [0]])"
      ]
     },
     "execution_count": 102,
     "metadata": {},
     "output_type": "execute_result"
    }
   ],
   "source": [
    "label_binarize(Y_test,lab)"
   ]
  },
  {
   "cell_type": "code",
   "execution_count": 37,
   "metadata": {},
   "outputs": [],
   "source": [
    "cmat = confusion_matrix(ground_truth,preds,labels = [-1,0,1,2,3,4])"
   ]
  },
  {
   "cell_type": "code",
   "execution_count": 50,
   "metadata": {},
   "outputs": [
    {
     "data": {
      "text/plain": [
       "array([[2.91730475e-01, 4.87748851e-01, 1.83001531e-01, 2.90964778e-02,\n",
       "        7.65696784e-03, 7.65696784e-04],\n",
       "       [3.92760878e-02, 8.65614170e-01, 6.12244898e-02, 2.46438198e-02,\n",
       "        1.15517905e-03, 8.08625337e-03],\n",
       "       [8.01024140e-02, 4.72201902e-01, 3.23335772e-01, 1.03511339e-01,\n",
       "        1.90197513e-02, 1.82882224e-03],\n",
       "       [4.64333782e-02, 4.32032301e-01, 2.83310902e-01, 1.79004038e-01,\n",
       "        5.38358008e-02, 5.38358008e-03],\n",
       "       [2.74656679e-02, 3.24594257e-01, 3.25842697e-01, 1.87265918e-01,\n",
       "        1.28589263e-01, 6.24219725e-03],\n",
       "       [9.79462875e-02, 4.24960506e-01, 2.43285940e-01, 1.57977883e-01,\n",
       "        3.15955766e-02, 4.42338073e-02]])"
      ]
     },
     "execution_count": 50,
     "metadata": {},
     "output_type": "execute_result"
    }
   ],
   "source": [
    "cmat/np.sum(cmat,axis=1).reshape([-1,1])"
   ]
  },
  {
   "cell_type": "code",
   "execution_count": 47,
   "metadata": {},
   "outputs": [
    {
     "data": {
      "text/plain": [
       "array([[1306],\n",
       "       [5194],\n",
       "       [2734],\n",
       "       [1486],\n",
       "       [ 801],\n",
       "       [ 633]], dtype=int64)"
      ]
     },
     "execution_count": 47,
     "metadata": {},
     "output_type": "execute_result"
    }
   ],
   "source": [
    "np.sum(cmat,axis=1).reshape([-1,1])"
   ]
  },
  {
   "cell_type": "code",
   "execution_count": null,
   "metadata": {},
   "outputs": [],
   "source": []
  }
 ],
 "metadata": {
  "kernelspec": {
   "display_name": "Python 3",
   "language": "python",
   "name": "python3"
  },
  "language_info": {
   "codemirror_mode": {
    "name": "ipython",
    "version": 3
   },
   "file_extension": ".py",
   "mimetype": "text/x-python",
   "name": "python",
   "nbconvert_exporter": "python",
   "pygments_lexer": "ipython3",
   "version": "3.7.3"
  }
 },
 "nbformat": 4,
 "nbformat_minor": 2
}
